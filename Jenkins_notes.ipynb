{
 "cells": [
  {
   "cell_type": "markdown",
   "metadata": {},
   "source": [
    "# Setup Guide for Jenkins Continuous Integration"
   ]
  },
  {
   "cell_type": "markdown",
   "metadata": {},
   "source": [
    "# Personal Use, Local Machine (Ubuntu 16.04)"
   ]
  },
  {
   "cell_type": "markdown",
   "metadata": {},
   "source": [
    "Ensure java is installed, then add jenkins apt-key and install:\n",
    "\n",
    ">`wget -q -O - https://jenkins-ci.org/debian/jenkins-ci.org.key | sudo apt-key add -`\n",
    "\n",
    ">`sudo sh -c 'echo deb http://pkg.jenkins-ci.org/debian binary/ > /etc/apt/sources.list.d/jenkins.list'`\n",
    "\n",
    ">`sudo apt-get update`\n",
    "\n",
    ">`sudo apt-get install jenkins`\n",
    "\n",
    "**What this does (From Jenkins Website):**\n",
    "\n",
    "* Jenkins will be launched as a daemon up on start. See `/etc/init.d/jenkins` for more details.\n",
    "* The 'jenkins' user is created to run this service.\n",
    "* Log file will be placed in /var/log/jenkins/jenkins.log. Check this file if you are troubleshooting Jenkins.\n",
    "* `/etc/default/jenkins` will capture configuration parameters for the launch like e.g JENKINS_HOME\n",
    "* By default, Jenkins listen on port **`8080`**. \n"
   ]
  },
  {
   "cell_type": "markdown",
   "metadata": {},
   "source": [
    "### Usage\n",
    "* If the process is running, the '`top`' UNIX command should show that a user named jenkins is now consuming some %MEM. More information on the process can be found via:\n",
    "\n",
    ">`ps -aux | grep jenkins`\n",
    "    \n",
    "    \n",
    "* To access the server (which should be running already), go to \"`localhost:8080`\" in a browser\n",
    "\n",
    "**However...**\n",
    "* To manually stop/start/restart the daemon process: \n",
    "\n",
    ">`sudo service <stop/start/restart>`\n",
    "\n",
    "\n",
    "* If desired, the auto-start on startup can be disabled (I haven't tried this yet, answer from [here](https://groups.google.com/forum/#!topic/jenkinsci-users/48dPSOUyzpg)):\n",
    "\n",
    ">`update-rc.d jenkins disable`"
   ]
  },
  {
   "cell_type": "markdown",
   "metadata": {},
   "source": [
    "##  Configuration\n",
    "1. Set up security - **Important** as default settings allows any user on the network or VPN to run any bash command or executable through jenkins given the IP and port number.\n",
    "    * Manage Jenkins > Global Security Settings\n",
    "    * Good settings might be (with guidance from [Jenkins best practices](https://wiki.jenkins-ci.org/display/JENKINS/Jenkins+Best+Practices) and [Jenkins security reccomendations]()):\n",
    "        >- `Enable Security`: Yes\n",
    "        >- `TCP port for JNLP slave agents`: Random \n",
    "        >- `Access Control`: Unix user/group database\n",
    "        >- Use 'Test' under Unix user/group database access control to troubleshoot: I had to add jenkins to the group 'shadow' with `sudo usermod -aG shadow jenkins`\n",
    "        >- `Authorization`:  Matrix Authorization Strategy - need to add user here as it doesn't add UNIX users to the table automatically (managed to lock myself out by not doing this). Note the tick all box on the right\n",
    "        >- `Markup Formatter`: Plain Text\n",
    "        >- `Prevent Cross Site Request Forgery exploits`: yes, default crumb issuer\n",
    "        >- `Enable Slave -> Master access control`: yes\n",
    "\n",
    "2. Set up plugins (Github, Bitbucket...)\n",
    "    * `Manage Jenkins` > `Manage Plugins` > `Available` > search for 'git plugin' > download and install on restart\n",
    "    * Do the same for \"Bitbucket plugin\" (I haven't tested performance of this yet)\n",
    "    * This will now show 'Git' under source code management when creating a new project \n",
    "    * the `Pipeline` plugin is handy for advanced useage, but not required\n",
    "    \n",
    "3. Set Environment variables\n",
    "    * I want to use Anaconda python, but the path to anaconda is not set as jenkins does not use my `.bashrc`\n",
    "    * Go to `Manage Jenkins` > `Configure System`\n",
    "    * Tick the `Environment variables` box under \"Global Properties\" and add your anaconda path to PATH:\n",
    "        * `Name`: PATH, `Value`: /path/to/anaconda/bin:$PATH\n"
   ]
  },
  {
   "cell_type": "markdown",
   "metadata": {},
   "source": [
    "### Creating a Project and Example\n",
    "* `New Job > Freestyle project` \n",
    "* Add a name and short description\n",
    "* Probably a good idea to `Discard old builds` and choose a number of builds to keep/how long to keep them\n",
    "* If using git, select Git and enter the URL - self explanatory\n",
    "* If you don't have any example software with tests available, [here is a simple example](https://github.com/p-chambers/Example_pytest) using py.test. I also include a jenkins_build.sh example here.\n",
    "* Tell git to check out the repository on build with `Additional Behaviours` > `Add` > `Check out to a sub-directory`: Leaving this blank is fine as the code wil be checked out into the project workspace.\n",
    "* Select `Build Trigger` > '`Poll SCM`' and '`Build when a change is pushed to GitHub`' to only build the project if the git repository has changed. You'll still need to set a schedule for how often it will check - see the question mark by schedule for help. \n",
    "    - One possible solution could be to poll every 5 minutes to see if new commits have been pushed, with\n",
    "            H/5 * * * *\n",
    "    - Note: `post-commit` hooks can also be set up for this, but difficult if Jenkins is behind a firewall that GitHub cannot successfully send packets through.\n",
    "* Set a build command - in the case of the example repository above, this would be\n",
    "\n",
    ">`Execute shell`: ./Jenkins_build.sh\n",
    "    \n",
    "    \n",
    "* Ensure any build file appropriately cleans the build environment to avoid subsequent build problems. In my case, I create a conda environment, install and test the module there and then delete the conda environment\n",
    "* **`Pytest` error reports can be published on the build status page** by added `Post-build Actions` > `publish JUnit test result report` > `Test report XLMs: filename.xml` and adding the `junitxml` flag to py.test in Jenkins_build.sh:\n",
    "\n",
    ">`py.test --junitxml=filename.xml`\n",
    "    \n",
    "* To test if the system has worked without waiting for the next poll, click on the project and then `Build Now`"
   ]
  },
  {
   "cell_type": "markdown",
   "metadata": {},
   "source": [
    "# Configuration using Vagrant VM\n",
    "\n",
    "A Virtual Machine may be useful for Jenkins servers running on shared clusters where admin priveleges are not given."
   ]
  },
  {
   "cell_type": "markdown",
   "metadata": {},
   "source": [
    "## Vagrant Virtual Machine and Provisioning:\n",
    "I'm going to describe the process for setting up an Ubuntu \n",
    "\n",
    ">`vagrant init Ubuntu/xenial64`\n",
    "\n",
    "Now need to edit the vagrant file to allow port forwarding, i.e. uncomment/edit the line \n",
    "\n",
    ">**config.vm.network \"forwarded_port\", guest: 8080, host: [Host Port number]**\n",
    "\n",
    "`Host Port number` here should be a memorable number that is not in use\n",
    "* `netstat -a` may help to show which ports are in use\n",
    "* network bridging may be a better idea here\n",
    "\n",
    "Enable shell script provisioning in Vagrantfile, i.e. add the following line before `end`\n",
    "\n",
    ">**config.vm.provision \"shell\", path: \"setup.sh\", privileged: true**\n",
    "\n",
    "Add a `setup.sh` bash file so that we have a software test-bed (I suppose this will require a python environment - Conda?, C compilers, C++ compiler, Fortran, cmake) plus the Jenkins dependencies (Java) and installation. Another provisioner would be better in general, however if you plan to run tests on a Debian machine, this is ok. My bash file contents in `setup.sh` are:\n",
    "\n",
    "    ------------------------------------------------------------------------------------------------\n",
    "    # Guest machine setup script for a Jenkins server and software test-bed\n",
    "    # @author Paul Chambers\n",
    "    # @date 11/01/2016\n",
    "\n",
    "    apt-get update\n",
    "\n",
    "    # Misc tools\n",
    "    apt-get -y install cmake, git, hg\n",
    "\n",
    "    # Install compilers\n",
    "    apt-get -y install build-essential, gfortran \n",
    "\n",
    "    # Install Anaconda python distribution to /home/vagrant/anaconda2\n",
    "    wget https://3230d63b5fc54e62148e-c95ac804525aac4b6dba79b00b39d1d3.ssl.cf1.rackcdn.com/Anaconda2-2.4.1-Linux-x86_64.sh\n",
    "    chmod +x Anaconda2-2.4.1-Linux-x86_64.sh\n",
    "    VGR_HOME=/home/vagrant\n",
    "    \n",
    "    CONDA_PATH=$VGR_HOME'/anaconda2'\n",
    "    \n",
    "    BASHRC=$VGR_HOME'/.bashrc'\n",
    "    \n",
    "    ./Anaconda2-2.4.1-Linux-x86_64.sh -b -p $CONDA_PATH\n",
    "    \n",
    "    echo '# Added during vagrant setup to correct Anaconda python path:' >> $BASHRC\n",
    "    \n",
    "    echo 'export PATH='$CONDA_PATH'/bin:$PATH' >> $BASHRC\n",
    "    \n",
    "    echo '' >> $BASHRC\n",
    "    \n",
    "    source $BASHRC\n",
    "    \n",
    "    conda update conda\n",
    "    conda update anaconda\n",
    "\n",
    "    # Install java (required for jenkins)\n",
    "    apt-get -y install default-jdk\n",
    "\n",
    "    # Jenkins specific setup:\n",
    "    wget -q -O - https://jenkins-ci.org/debian/jenkins-ci.org.key | sudo apt-key add -\n",
    "    sh -c 'echo deb http://pkg.jenkins-ci.org/debian binary/ > /etc/apt/sources.list.d/jenkins.list'\n",
    "    apt-get update\n",
    "    apt-get -y install jenkins\n",
    "    ------------------------------------------------------------------------------------------------\n",
    "\n",
    "\n",
    "make it executable...\n",
    "\n",
    ">`chmod +x setup.sh`\n",
    "\n",
    "Note: Other settings such as RAM, CPU number and virtual hard drive size can and probably should also be set in the vagrant file.\n",
    "\n",
    "Start the vagrant machine :\n",
    "\n",
    ">`vagrant up`\n",
    "    \n",
    "To control the machine later, ssh into the vagrant machine with\n",
    "    \n",
    ">`vagrant ssh`\n",
    "    \n",
    "And use the normal vagrant commands to control the virtual machine once created i.e.\n",
    "\n",
    ">`vagrant suspend/halt`     #  suspend/shut down (vagrant up to recover)\n",
    "\n",
    ">`vagrant destroy`          #  delete the machine "
   ]
  },
  {
   "cell_type": "markdown",
   "metadata": {},
   "source": [
    "## Usage\n",
    "\n",
    "Jenkins should now be available at `domain_name:<Host Port number>`, (`localhost:<Host Port number>` if accessing from the host machine, otherwise something like `computername.domain.com:<Host Port number>`).\n",
    "\n",
    "** Now set up security and plugins as shown [above](#Configuration) for a personal machine **"
   ]
  },
  {
   "cell_type": "markdown",
   "metadata": {
    "collapsed": true
   },
   "source": [
    "# Notes\n",
    "\n",
    "* It seems security can be switched off directly in the $JENKINS_HOME/config.xml although this requires sudo access so not a huge risk\n",
    "\n",
    "* [this might be useful](http://staxmanade.com/2015/01/how-to-migrate-a-jenkins-job-to-new-jenkins-server/) for moving existing jenkins jobs from one computer to another\n",
    "\n",
    "* Master-slave builds could be useful to avoid crashing the master Jenkins node\n",
    "\n",
    "* Sizing the hard disk and RAM for vagrant machines should be important factors to consider for shared Jenkins servers\n",
    "    -  Watch out for virtualbox breakouts"
   ]
  }
 ],
 "metadata": {
  "anaconda-cloud": {},
  "kernelspec": {
   "display_name": "Python [default]",
   "language": "python",
   "name": "python2"
  },
  "language_info": {
   "codemirror_mode": {
    "name": "ipython",
    "version": 2
   },
   "file_extension": ".py",
   "mimetype": "text/x-python",
   "name": "python",
   "nbconvert_exporter": "python",
   "pygments_lexer": "ipython2",
   "version": "2.7.12"
  }
 },
 "nbformat": 4,
 "nbformat_minor": 0
}
